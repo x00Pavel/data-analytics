{
 "cells": [
  {
   "cell_type": "markdown",
   "metadata": {},
   "source": [
    "Groups based on career length\n",
    "\n",
    " - Group **A**: less then 1 year\n",
    " - Group **B**: 1 - 2 years\n",
    " - Group **C**: 3 - 4 years \n",
    " - Group **D**: 5 - 10 years \n",
    " - Group **E**:  more then 10 years\n",
    "\n",
    "Groups based on working hours\n",
    "\n",
    " - Group **1**: 1 - 2 hours \n",
    " - Group **2**: 3 - 4 hours\n",
    " - Group **3**: 5 - 6 hours\n",
    " - Group **4**: 7 - 8 hours\n",
    " - Group **5**: more then 8 hours\n",
    "\n",
    "Check for grouping this [link](https://realpython.com/pandas-groupby/)"
   ]
  },
  {
   "cell_type": "code",
   "execution_count": 3,
   "metadata": {},
   "outputs": [],
   "source": [
    "from scipy import stats\n",
    "import numpy as np\n",
    "import pandas as pd"
   ]
  },
  {
   "cell_type": "code",
   "execution_count": 38,
   "metadata": {},
   "outputs": [
    {
     "name": "stdout",
     "output_type": "stream",
     "text": [
      "working_hours  1 - 2 hours  3 - 4 hours  5 - 6 hours  7 - 8 hours  > 8 hours\n",
      "carrer_length                                                               \n",
      "1 - 2 years              2            2            1            2          1\n",
      "3 - 4 years              6            9           12            6          7\n",
      "5 - 10 years             3            4            8           14          5\n",
      "< 1 year                 1            1            4            3          0\n",
      "> 10 years               0            1            6           11         13\n"
     ]
    }
   ],
   "source": [
    "data = pd.read_csv(\"task-3-data.csv\")\n",
    "N = len(df.index)\n",
    "groups = data.groupby([\"carrer_length\", \"working_hours\"]).size()\n",
    "groups_df = groups.unstack(level=1, fill_value=0)\n",
    "print(groups_df)"
   ]
  },
  {
   "cell_type": "code",
   "execution_count": 39,
   "metadata": {},
   "outputs": [
    {
     "data": {
      "text/html": [
       "<div>\n",
       "<style scoped>\n",
       "    .dataframe tbody tr th:only-of-type {\n",
       "        vertical-align: middle;\n",
       "    }\n",
       "\n",
       "    .dataframe tbody tr th {\n",
       "        vertical-align: top;\n",
       "    }\n",
       "\n",
       "    .dataframe thead th {\n",
       "        text-align: right;\n",
       "    }\n",
       "</style>\n",
       "<table border=\"1\" class=\"dataframe\">\n",
       "  <thead>\n",
       "    <tr style=\"text-align: right;\">\n",
       "      <th>working_hours</th>\n",
       "      <th>1 - 2 hours</th>\n",
       "      <th>3 - 4 hours</th>\n",
       "      <th>5 - 6 hours</th>\n",
       "      <th>7 - 8 hours</th>\n",
       "      <th>&gt; 8 hours</th>\n",
       "      <th>sum_of_rows</th>\n",
       "    </tr>\n",
       "    <tr>\n",
       "      <th>carrer_length</th>\n",
       "      <th></th>\n",
       "      <th></th>\n",
       "      <th></th>\n",
       "      <th></th>\n",
       "      <th></th>\n",
       "      <th></th>\n",
       "    </tr>\n",
       "  </thead>\n",
       "  <tbody>\n",
       "    <tr>\n",
       "      <th>1 - 2 years</th>\n",
       "      <td>2</td>\n",
       "      <td>2</td>\n",
       "      <td>1</td>\n",
       "      <td>2</td>\n",
       "      <td>1</td>\n",
       "      <td>8</td>\n",
       "    </tr>\n",
       "    <tr>\n",
       "      <th>3 - 4 years</th>\n",
       "      <td>6</td>\n",
       "      <td>9</td>\n",
       "      <td>12</td>\n",
       "      <td>6</td>\n",
       "      <td>7</td>\n",
       "      <td>40</td>\n",
       "    </tr>\n",
       "    <tr>\n",
       "      <th>5 - 10 years</th>\n",
       "      <td>3</td>\n",
       "      <td>4</td>\n",
       "      <td>8</td>\n",
       "      <td>14</td>\n",
       "      <td>5</td>\n",
       "      <td>34</td>\n",
       "    </tr>\n",
       "    <tr>\n",
       "      <th>&lt; 1 year</th>\n",
       "      <td>1</td>\n",
       "      <td>1</td>\n",
       "      <td>4</td>\n",
       "      <td>3</td>\n",
       "      <td>0</td>\n",
       "      <td>9</td>\n",
       "    </tr>\n",
       "    <tr>\n",
       "      <th>&gt; 10 years</th>\n",
       "      <td>0</td>\n",
       "      <td>1</td>\n",
       "      <td>6</td>\n",
       "      <td>11</td>\n",
       "      <td>13</td>\n",
       "      <td>31</td>\n",
       "    </tr>\n",
       "    <tr>\n",
       "      <th>sum_of_columns</th>\n",
       "      <td>12</td>\n",
       "      <td>17</td>\n",
       "      <td>31</td>\n",
       "      <td>36</td>\n",
       "      <td>26</td>\n",
       "      <td>122</td>\n",
       "    </tr>\n",
       "  </tbody>\n",
       "</table>\n",
       "</div>"
      ],
      "text/plain": [
       "working_hours   1 - 2 hours  3 - 4 hours  5 - 6 hours  7 - 8 hours  > 8 hours  \\\n",
       "carrer_length                                                                   \n",
       "1 - 2 years               2            2            1            2          1   \n",
       "3 - 4 years               6            9           12            6          7   \n",
       "5 - 10 years              3            4            8           14          5   \n",
       "< 1 year                  1            1            4            3          0   \n",
       "> 10 years                0            1            6           11         13   \n",
       "sum_of_columns           12           17           31           36         26   \n",
       "\n",
       "working_hours   sum_of_rows  \n",
       "carrer_length                \n",
       "1 - 2 years               8  \n",
       "3 - 4 years              40  \n",
       "5 - 10 years             34  \n",
       "< 1 year                  9  \n",
       "> 10 years               31  \n",
       "sum_of_columns          122  "
      ]
     },
     "execution_count": 39,
     "metadata": {},
     "output_type": "execute_result"
    }
   ],
   "source": [
    "df = groups.unstack(level=1, fill_value=0)\n",
    "df_sum = df\n",
    "df_sum  [\"sum_of_rows\"] = df.sum(axis=1).to_list()\n",
    "df_sum = df_sum.append(df.sum(axis=0).rename(\"sum_of_columns\"))\n",
    "df_sum"
   ]
  },
  {
   "cell_type": "code",
   "execution_count": 56,
   "metadata": {},
   "outputs": [
    {
     "name": "stdout",
     "output_type": "stream",
     "text": [
      "[[19.2, 27.2, 49.6, 57.6, 41.6], [96.0, 136.0, 248.0, 288.0, 208.0], [81.6, 115.6, 210.8, 244.8, 176.8], [21.6, 30.6, 55.8, 64.8, 46.8], [74.4, 105.4, 192.2, 223.2, 161.2]]\n"
     ]
    }
   ],
   "source": [
    "r = []\n",
    "for row in df_sum[\"sum_of_rows\"].drop(\"sum_of_columns\"):\n",
    "    c = []\n",
    "    for col in df_sum.loc[\"sum_of_columns\"].drop(\"sum_of_rows\"):\n",
    "        c.append(row * col / N)\n",
    "    r.append(c)\n",
    "print(r)\n"
   ]
  },
  {
   "cell_type": "code",
   "execution_count": 58,
   "metadata": {},
   "outputs": [
    {
     "data": {
      "text/html": [
       "<div>\n",
       "<style scoped>\n",
       "    .dataframe tbody tr th:only-of-type {\n",
       "        vertical-align: middle;\n",
       "    }\n",
       "\n",
       "    .dataframe tbody tr th {\n",
       "        vertical-align: top;\n",
       "    }\n",
       "\n",
       "    .dataframe thead th {\n",
       "        text-align: right;\n",
       "    }\n",
       "</style>\n",
       "<table border=\"1\" class=\"dataframe\">\n",
       "  <thead>\n",
       "    <tr style=\"text-align: right;\">\n",
       "      <th></th>\n",
       "      <th>0</th>\n",
       "      <th>1</th>\n",
       "      <th>2</th>\n",
       "      <th>3</th>\n",
       "      <th>4</th>\n",
       "    </tr>\n",
       "    <tr>\n",
       "      <th>carrer_length</th>\n",
       "      <th></th>\n",
       "      <th></th>\n",
       "      <th></th>\n",
       "      <th></th>\n",
       "      <th></th>\n",
       "    </tr>\n",
       "  </thead>\n",
       "  <tbody>\n",
       "    <tr>\n",
       "      <th>1 - 2 years</th>\n",
       "      <td>19.2</td>\n",
       "      <td>27.2</td>\n",
       "      <td>49.6</td>\n",
       "      <td>57.6</td>\n",
       "      <td>41.6</td>\n",
       "    </tr>\n",
       "    <tr>\n",
       "      <th>3 - 4 years</th>\n",
       "      <td>96.0</td>\n",
       "      <td>136.0</td>\n",
       "      <td>248.0</td>\n",
       "      <td>288.0</td>\n",
       "      <td>208.0</td>\n",
       "    </tr>\n",
       "    <tr>\n",
       "      <th>5 - 10 years</th>\n",
       "      <td>81.6</td>\n",
       "      <td>115.6</td>\n",
       "      <td>210.8</td>\n",
       "      <td>244.8</td>\n",
       "      <td>176.8</td>\n",
       "    </tr>\n",
       "    <tr>\n",
       "      <th>&lt; 1 year</th>\n",
       "      <td>21.6</td>\n",
       "      <td>30.6</td>\n",
       "      <td>55.8</td>\n",
       "      <td>64.8</td>\n",
       "      <td>46.8</td>\n",
       "    </tr>\n",
       "    <tr>\n",
       "      <th>&gt; 10 years</th>\n",
       "      <td>74.4</td>\n",
       "      <td>105.4</td>\n",
       "      <td>192.2</td>\n",
       "      <td>223.2</td>\n",
       "      <td>161.2</td>\n",
       "    </tr>\n",
       "  </tbody>\n",
       "</table>\n",
       "</div>"
      ],
      "text/plain": [
       "                  0      1      2      3      4\n",
       "carrer_length                                  \n",
       "1 - 2 years    19.2   27.2   49.6   57.6   41.6\n",
       "3 - 4 years    96.0  136.0  248.0  288.0  208.0\n",
       "5 - 10 years   81.6  115.6  210.8  244.8  176.8\n",
       "< 1 year       21.6   30.6   55.8   64.8   46.8\n",
       "> 10 years     74.4  105.4  192.2  223.2  161.2"
      ]
     },
     "execution_count": 58,
     "metadata": {},
     "output_type": "execute_result"
    }
   ],
   "source": [
    "df_theor = pd.DataFrame(r, index=df.index)\n",
    "df_theor"
   ]
  },
  {
   "cell_type": "code",
   "execution_count": null,
   "metadata": {},
   "outputs": [],
   "source": []
  }
 ],
 "metadata": {
  "interpreter": {
   "hash": "916dbcbb3f70747c44a77c7bcd40155683ae19c65e1c03b4aa3499c5328201f1"
  },
  "kernelspec": {
   "display_name": "Python 3.8.10 64-bit",
   "language": "python",
   "name": "python3"
  },
  "language_info": {
   "codemirror_mode": {
    "name": "ipython",
    "version": 3
   },
   "file_extension": ".py",
   "mimetype": "text/x-python",
   "name": "python",
   "nbconvert_exporter": "python",
   "pygments_lexer": "ipython3",
   "version": "3.9.7"
  },
  "orig_nbformat": 4
 },
 "nbformat": 4,
 "nbformat_minor": 2
}
