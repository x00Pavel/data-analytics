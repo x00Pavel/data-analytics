{
 "cells": [
  {
   "cell_type": "markdown",
   "metadata": {},
   "source": [
    "Groups based on career length\n",
    "\n",
    " - Group **A**: less then 1 year\n",
    " - Group **B**: 1 - 2 years\n",
    " - Group **C**: 3 - 4 years \n",
    " - Group **D**: 5 - 10 years \n",
    " - Group **E**:  more then 10 years\n",
    "\n",
    "Groups based on working hours\n",
    "\n",
    " - Group **1**: 1 - 2 hours \n",
    " - Group **2**: 3 - 4 hours\n",
    " - Group **3**: 5 - 6 hours\n",
    " - Group **4**: 7 - 8 hours\n",
    " - Group **5**: more then 8 hours\n",
    "\n",
    "Check for grouping this [link](https://realpython.com/pandas-groupby/)"
   ]
  },
  {
   "cell_type": "code",
   "execution_count": 2,
   "metadata": {},
   "outputs": [],
   "source": [
    "from scipy import stats\n",
    "import numpy as np\n",
    "import pandas as pd"
   ]
  },
  {
   "cell_type": "code",
   "execution_count": 87,
   "metadata": {},
   "outputs": [
    {
     "name": "stdout",
     "output_type": "stream",
     "text": [
      "working_hours  1 - 2 hours  3 - 4 hours  5 - 6 hours  7 - 8 hours  > 8 hours\n",
      "carrer_length                                                               \n",
      "1 - 2 years              2            2            1            2          1\n",
      "3 - 4 years              6            9           12            6          7\n",
      "5 - 10 years             3            4            8           14          5\n",
      "< 1 year                 1            1            4            3          0\n",
      "> 10 years               0            1            6           11         13\n"
     ]
    }
   ],
   "source": [
    "data = pd.read_csv(\"task-3-data.csv\")\n",
    "groups = data.groupby([\"carrer_length\", \"working_hours\"]).size()\n",
    "groups_df = groups.unstack(level=1, fill_value=0)\n",
    "print(groups_df)"
   ]
  },
  {
   "cell_type": "code",
   "execution_count": 109,
   "metadata": {},
   "outputs": [
    {
     "data": {
      "text/html": [
       "<div>\n",
       "<style scoped>\n",
       "    .dataframe tbody tr th:only-of-type {\n",
       "        vertical-align: middle;\n",
       "    }\n",
       "\n",
       "    .dataframe tbody tr th {\n",
       "        vertical-align: top;\n",
       "    }\n",
       "\n",
       "    .dataframe thead th {\n",
       "        text-align: right;\n",
       "    }\n",
       "</style>\n",
       "<table border=\"1\" class=\"dataframe\">\n",
       "  <thead>\n",
       "    <tr style=\"text-align: right;\">\n",
       "      <th>working_hours</th>\n",
       "      <th>1 - 2 hours</th>\n",
       "      <th>3 - 4 hours</th>\n",
       "      <th>5 - 6 hours</th>\n",
       "      <th>7 - 8 hours</th>\n",
       "      <th>&gt; 8 hours</th>\n",
       "      <th>sum_of_rows</th>\n",
       "    </tr>\n",
       "    <tr>\n",
       "      <th>carrer_length</th>\n",
       "      <th></th>\n",
       "      <th></th>\n",
       "      <th></th>\n",
       "      <th></th>\n",
       "      <th></th>\n",
       "      <th></th>\n",
       "    </tr>\n",
       "  </thead>\n",
       "  <tbody>\n",
       "    <tr>\n",
       "      <th>1 - 2 years</th>\n",
       "      <td>2</td>\n",
       "      <td>2</td>\n",
       "      <td>1</td>\n",
       "      <td>2</td>\n",
       "      <td>1</td>\n",
       "      <td>8</td>\n",
       "    </tr>\n",
       "    <tr>\n",
       "      <th>3 - 4 years</th>\n",
       "      <td>6</td>\n",
       "      <td>9</td>\n",
       "      <td>12</td>\n",
       "      <td>6</td>\n",
       "      <td>7</td>\n",
       "      <td>40</td>\n",
       "    </tr>\n",
       "    <tr>\n",
       "      <th>5 - 10 years</th>\n",
       "      <td>3</td>\n",
       "      <td>4</td>\n",
       "      <td>8</td>\n",
       "      <td>14</td>\n",
       "      <td>5</td>\n",
       "      <td>34</td>\n",
       "    </tr>\n",
       "    <tr>\n",
       "      <th>&lt; 1 year</th>\n",
       "      <td>1</td>\n",
       "      <td>1</td>\n",
       "      <td>4</td>\n",
       "      <td>3</td>\n",
       "      <td>0</td>\n",
       "      <td>9</td>\n",
       "    </tr>\n",
       "    <tr>\n",
       "      <th>&gt; 10 years</th>\n",
       "      <td>0</td>\n",
       "      <td>1</td>\n",
       "      <td>6</td>\n",
       "      <td>11</td>\n",
       "      <td>13</td>\n",
       "      <td>31</td>\n",
       "    </tr>\n",
       "    <tr>\n",
       "      <th>sum_of_columns</th>\n",
       "      <td>12</td>\n",
       "      <td>17</td>\n",
       "      <td>31</td>\n",
       "      <td>36</td>\n",
       "      <td>26</td>\n",
       "      <td>122</td>\n",
       "    </tr>\n",
       "  </tbody>\n",
       "</table>\n",
       "</div>"
      ],
      "text/plain": [
       "working_hours   1 - 2 hours  3 - 4 hours  5 - 6 hours  7 - 8 hours  > 8 hours  \\\n",
       "carrer_length                                                                   \n",
       "1 - 2 years               2            2            1            2          1   \n",
       "3 - 4 years               6            9           12            6          7   \n",
       "5 - 10 years              3            4            8           14          5   \n",
       "< 1 year                  1            1            4            3          0   \n",
       "> 10 years                0            1            6           11         13   \n",
       "sum_of_columns           12           17           31           36         26   \n",
       "\n",
       "working_hours   sum_of_rows  \n",
       "carrer_length                \n",
       "1 - 2 years               8  \n",
       "3 - 4 years              40  \n",
       "5 - 10 years             34  \n",
       "< 1 year                  9  \n",
       "> 10 years               31  \n",
       "sum_of_columns          122  "
      ]
     },
     "execution_count": 109,
     "metadata": {},
     "output_type": "execute_result"
    }
   ],
   "source": [
    "groups_df = groups.unstack(level=1, fill_value=0)\n",
    "groups_df_with_sum = groups_df\n",
    "groups_df_with_sum[\"sum_of_rows\"] = groups_df.sum(axis=1).to_list()\n",
    "groups_df_with_sum = groups_df_with_sum.append(groups_df.sum(axis=0).rename(\"sum_of_columns\"))\n",
    "groups_df_with_sum"
   ]
  },
  {
   "cell_type": "code",
   "execution_count": 102,
   "metadata": {},
   "outputs": [
    {
     "name": "stdout",
     "output_type": "stream",
     "text": [
      "Index(['1 - 2 years', '3 - 4 years', '5 - 10 years', '< 1 year', '> 10 years',\n",
      "       'sum_of_columns'],\n",
      "      dtype='object', name='carrer_length')\n",
      "Index(['1 - 2 years', '3 - 4 years', '5 - 10 years', '< 1 year', '> 10 years',\n",
      "       'sum_of_columns'],\n",
      "      dtype='object', name='carrer_length')\n",
      "Index(['1 - 2 years', '3 - 4 years', '5 - 10 years', '< 1 year', '> 10 years',\n",
      "       'sum_of_columns'],\n",
      "      dtype='object', name='carrer_length')\n",
      "Index(['1 - 2 years', '3 - 4 years', '5 - 10 years', '< 1 year', '> 10 years',\n",
      "       'sum_of_columns'],\n",
      "      dtype='object', name='carrer_length')\n",
      "Index(['1 - 2 years', '3 - 4 years', '5 - 10 years', '< 1 year', '> 10 years',\n",
      "       'sum_of_columns'],\n",
      "      dtype='object', name='carrer_length')\n",
      "Index(['1 - 2 years', '3 - 4 years', '5 - 10 years', '< 1 year', '> 10 years',\n",
      "       'sum_of_columns'],\n",
      "      dtype='object', name='carrer_length')\n"
     ]
    },
    {
     "data": {
      "text/plain": [
       "working_hours\n",
       "1 - 2 hours    None\n",
       "3 - 4 hours    None\n",
       "5 - 6 hours    None\n",
       "7 - 8 hours    None\n",
       "> 8 hours      None\n",
       "sum_of_rows    None\n",
       "dtype: object"
      ]
     },
     "execution_count": 102,
     "metadata": {},
     "output_type": "execute_result"
    }
   ],
   "source": []
  },
  {
   "cell_type": "code",
   "execution_count": null,
   "metadata": {},
   "outputs": [],
   "source": []
  }
 ],
 "metadata": {
  "interpreter": {
   "hash": "916dbcbb3f70747c44a77c7bcd40155683ae19c65e1c03b4aa3499c5328201f1"
  },
  "kernelspec": {
   "display_name": "Python 3.8.10 64-bit",
   "language": "python",
   "name": "python3"
  },
  "language_info": {
   "codemirror_mode": {
    "name": "ipython",
    "version": 3
   },
   "file_extension": ".py",
   "mimetype": "text/x-python",
   "name": "python",
   "nbconvert_exporter": "python",
   "pygments_lexer": "ipython3",
   "version": "3.9.7"
  },
  "orig_nbformat": 4
 },
 "nbformat": 4,
 "nbformat_minor": 2
}
